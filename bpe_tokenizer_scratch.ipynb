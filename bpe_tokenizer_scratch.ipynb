{
  "nbformat": 4,
  "nbformat_minor": 0,
  "metadata": {
    "colab": {
      "provenance": []
    },
    "kernelspec": {
      "name": "python3",
      "display_name": "Python 3"
    },
    "language_info": {
      "name": "python"
    }
  },
  "cells": [
    {
      "cell_type": "code",
      "execution_count": 1,
      "metadata": {
        "id": "dLnmCJ3oa2Dk"
      },
      "outputs": [],
      "source": [
        "import collections"
      ]
    },
    {
      "cell_type": "code",
      "source": [
        "def get_stats(vocab):\n",
        "\n",
        "  \"\"\"\n",
        "    Compute frequencies of pairs of consecutive characters (bigrams) in the vocabulary.\n",
        "\n",
        "    Args:\n",
        "    vocab (dict): Dictionary where keys are tokens (e.g., words or sequences of subwords) and values are their frequencies.\n",
        "\n",
        "    Returns:\n",
        "    dict: Dictionary with pairs of characters as keys and their frequencies as values.\n",
        "    \"\"\"\n",
        "  pairs = collections.defaultdict(int)\n",
        "  for word,freq in vocab.items():\n",
        "    symbols = word.split()\n",
        "    for i in range(len(symbols) - 1):\n",
        "      pair = (symbols[i], symbols[i+1])\n",
        "      pairs[pair] += freq\n",
        "\n",
        "  return pairs\n",
        "\n",
        ""
      ],
      "metadata": {
        "id": "Y1cZKXBxa9Gd"
      },
      "execution_count": 7,
      "outputs": []
    },
    {
      "cell_type": "code",
      "source": [
        "def merge_vocab(pair, v_in):\n",
        "    v_out = {}\n",
        "    bigram = ' '.join(pair)\n",
        "    replacement = ''.join(pair)\n",
        "    for word in v_in:\n",
        "        new_word = word.replace(bigram, replacement)\n",
        "        v_out[new_word] = v_in[word]\n",
        "    return v_out\n"
      ],
      "metadata": {
        "id": "1kBZbYBHbel-"
      },
      "execution_count": 12,
      "outputs": []
    },
    {
      "cell_type": "code",
      "source": [
        "def bpe(vocab, num_merges):\n",
        "    for i in range(num_merges):\n",
        "        pairs = get_stats(vocab)\n",
        "        if not pairs:\n",
        "            break\n",
        "        best_pair = max(pairs, key=pairs.get)\n",
        "        vocab = merge_vocab(best_pair, vocab)\n",
        "        print(f\"Step {i+1}: Merged {best_pair} -> New Vocab: {vocab}\")\n",
        "    return vocab\n"
      ],
      "metadata": {
        "id": "l002OcEQctVY"
      },
      "execution_count": 13,
      "outputs": []
    },
    {
      "cell_type": "code",
      "source": [
        "vocab = {\n",
        "    'l o w': 5,\n",
        "    'l o w e r': 2,\n",
        "    'n e w e r': 6,\n",
        "    'w i d e s t': 3\n",
        "}"
      ],
      "metadata": {
        "id": "BWiHIjNkdqMr"
      },
      "execution_count": 14,
      "outputs": []
    },
    {
      "cell_type": "code",
      "source": [
        "num_merges = 10\n",
        "final_vocab = bpe(vocab,num_merges)"
      ],
      "metadata": {
        "colab": {
          "base_uri": "https://localhost:8080/"
        },
        "id": "GThR6cTGdbrl",
        "outputId": "a41a8461-c507-4393-890e-93cab7719b66"
      },
      "execution_count": 15,
      "outputs": [
        {
          "output_type": "stream",
          "name": "stdout",
          "text": [
            "Step 1: Merged ('w', 'e') -> New Vocab: {'l o w': 5, 'l o we r': 2, 'n e we r': 6, 'w i d e s t': 3}\n",
            "Step 2: Merged ('we', 'r') -> New Vocab: {'l o w': 5, 'l o wer': 2, 'n e wer': 6, 'w i d e s t': 3}\n",
            "Step 3: Merged ('l', 'o') -> New Vocab: {'lo w': 5, 'lo wer': 2, 'n e wer': 6, 'w i d e s t': 3}\n",
            "Step 4: Merged ('n', 'e') -> New Vocab: {'lo w': 5, 'lo wer': 2, 'ne wer': 6, 'w i d e s t': 3}\n",
            "Step 5: Merged ('ne', 'wer') -> New Vocab: {'lo w': 5, 'lo wer': 2, 'newer': 6, 'w i d e s t': 3}\n",
            "Step 6: Merged ('lo', 'w') -> New Vocab: {'low': 5, 'lower': 2, 'newer': 6, 'w i d e s t': 3}\n",
            "Step 7: Merged ('w', 'i') -> New Vocab: {'low': 5, 'lower': 2, 'newer': 6, 'wi d e s t': 3}\n",
            "Step 8: Merged ('wi', 'd') -> New Vocab: {'low': 5, 'lower': 2, 'newer': 6, 'wid e s t': 3}\n",
            "Step 9: Merged ('wid', 'e') -> New Vocab: {'low': 5, 'lower': 2, 'newer': 6, 'wide s t': 3}\n",
            "Step 10: Merged ('wide', 's') -> New Vocab: {'low': 5, 'lower': 2, 'newer': 6, 'wides t': 3}\n"
          ]
        }
      ]
    },
    {
      "cell_type": "code",
      "source": [],
      "metadata": {
        "id": "omnGBK8Udt9L"
      },
      "execution_count": null,
      "outputs": []
    }
  ]
}